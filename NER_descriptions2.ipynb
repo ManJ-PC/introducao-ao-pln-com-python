{
  "nbformat": 4,
  "nbformat_minor": 0,
  "metadata": {
    "colab": {
      "provenance": [],
      "authorship_tag": "ABX9TyPnIXlCbakJxS5+GRPFPVJg",
      "include_colab_link": true
    },
    "kernelspec": {
      "name": "python3",
      "display_name": "Python 3"
    },
    "language_info": {
      "name": "python"
    }
  },
  "cells": [
    {
      "cell_type": "markdown",
      "metadata": {
        "id": "view-in-github",
        "colab_type": "text"
      },
      "source": [
        "<a href=\"https://colab.research.google.com/github/ManJ-PC/introducao-ao-pln-com-python/blob/master/NER_descriptions2.ipynb\" target=\"_parent\"><img src=\"https://colab.research.google.com/assets/colab-badge.svg\" alt=\"Open In Colab\"/></a>"
      ]
    },
    {
      "cell_type": "code",
      "source": [
        "!python3 -m spacy download pt_core_news_md"
      ],
      "metadata": {
        "colab": {
          "base_uri": "https://localhost:8080/"
        },
        "id": "BIGqmzJUz3Ha",
        "outputId": "0c28803f-2fb1-44db-bfb8-ad7e57a3064f"
      },
      "execution_count": 15,
      "outputs": [
        {
          "output_type": "stream",
          "name": "stdout",
          "text": [
            "2023-06-06 14:30:52.249169: W tensorflow/compiler/tf2tensorrt/utils/py_utils.cc:38] TF-TRT Warning: Could not find TensorRT\n",
            "Looking in indexes: https://pypi.org/simple, https://us-python.pkg.dev/colab-wheels/public/simple/\n",
            "Collecting pt-core-news-md==3.5.0\n",
            "  Downloading https://github.com/explosion/spacy-models/releases/download/pt_core_news_md-3.5.0/pt_core_news_md-3.5.0-py3-none-any.whl (42.4 MB)\n",
            "\u001b[2K     \u001b[90m━━━━━━━━━━━━━━━━━━━━━━━━━━━━━━━━━━━━━━━━\u001b[0m \u001b[32m42.4/42.4 MB\u001b[0m \u001b[31m15.4 MB/s\u001b[0m eta \u001b[36m0:00:00\u001b[0m\n",
            "\u001b[?25hRequirement already satisfied: spacy<3.6.0,>=3.5.0 in /usr/local/lib/python3.10/dist-packages (from pt-core-news-md==3.5.0) (3.5.3)\n",
            "Requirement already satisfied: spacy-legacy<3.1.0,>=3.0.11 in /usr/local/lib/python3.10/dist-packages (from spacy<3.6.0,>=3.5.0->pt-core-news-md==3.5.0) (3.0.12)\n",
            "Requirement already satisfied: spacy-loggers<2.0.0,>=1.0.0 in /usr/local/lib/python3.10/dist-packages (from spacy<3.6.0,>=3.5.0->pt-core-news-md==3.5.0) (1.0.4)\n",
            "Requirement already satisfied: murmurhash<1.1.0,>=0.28.0 in /usr/local/lib/python3.10/dist-packages (from spacy<3.6.0,>=3.5.0->pt-core-news-md==3.5.0) (1.0.9)\n",
            "Requirement already satisfied: cymem<2.1.0,>=2.0.2 in /usr/local/lib/python3.10/dist-packages (from spacy<3.6.0,>=3.5.0->pt-core-news-md==3.5.0) (2.0.7)\n",
            "Requirement already satisfied: preshed<3.1.0,>=3.0.2 in /usr/local/lib/python3.10/dist-packages (from spacy<3.6.0,>=3.5.0->pt-core-news-md==3.5.0) (3.0.8)\n",
            "Requirement already satisfied: thinc<8.2.0,>=8.1.8 in /usr/local/lib/python3.10/dist-packages (from spacy<3.6.0,>=3.5.0->pt-core-news-md==3.5.0) (8.1.9)\n",
            "Requirement already satisfied: wasabi<1.2.0,>=0.9.1 in /usr/local/lib/python3.10/dist-packages (from spacy<3.6.0,>=3.5.0->pt-core-news-md==3.5.0) (1.1.1)\n",
            "Requirement already satisfied: srsly<3.0.0,>=2.4.3 in /usr/local/lib/python3.10/dist-packages (from spacy<3.6.0,>=3.5.0->pt-core-news-md==3.5.0) (2.4.6)\n",
            "Requirement already satisfied: catalogue<2.1.0,>=2.0.6 in /usr/local/lib/python3.10/dist-packages (from spacy<3.6.0,>=3.5.0->pt-core-news-md==3.5.0) (2.0.8)\n",
            "Requirement already satisfied: typer<0.8.0,>=0.3.0 in /usr/local/lib/python3.10/dist-packages (from spacy<3.6.0,>=3.5.0->pt-core-news-md==3.5.0) (0.7.0)\n",
            "Requirement already satisfied: pathy>=0.10.0 in /usr/local/lib/python3.10/dist-packages (from spacy<3.6.0,>=3.5.0->pt-core-news-md==3.5.0) (0.10.1)\n",
            "Requirement already satisfied: smart-open<7.0.0,>=5.2.1 in /usr/local/lib/python3.10/dist-packages (from spacy<3.6.0,>=3.5.0->pt-core-news-md==3.5.0) (6.3.0)\n",
            "Requirement already satisfied: tqdm<5.0.0,>=4.38.0 in /usr/local/lib/python3.10/dist-packages (from spacy<3.6.0,>=3.5.0->pt-core-news-md==3.5.0) (4.65.0)\n",
            "Requirement already satisfied: numpy>=1.15.0 in /usr/local/lib/python3.10/dist-packages (from spacy<3.6.0,>=3.5.0->pt-core-news-md==3.5.0) (1.22.4)\n",
            "Requirement already satisfied: requests<3.0.0,>=2.13.0 in /usr/local/lib/python3.10/dist-packages (from spacy<3.6.0,>=3.5.0->pt-core-news-md==3.5.0) (2.27.1)\n",
            "Requirement already satisfied: pydantic!=1.8,!=1.8.1,<1.11.0,>=1.7.4 in /usr/local/lib/python3.10/dist-packages (from spacy<3.6.0,>=3.5.0->pt-core-news-md==3.5.0) (1.10.7)\n",
            "Requirement already satisfied: jinja2 in /usr/local/lib/python3.10/dist-packages (from spacy<3.6.0,>=3.5.0->pt-core-news-md==3.5.0) (3.1.2)\n",
            "Requirement already satisfied: setuptools in /usr/local/lib/python3.10/dist-packages (from spacy<3.6.0,>=3.5.0->pt-core-news-md==3.5.0) (67.7.2)\n",
            "Requirement already satisfied: packaging>=20.0 in /usr/local/lib/python3.10/dist-packages (from spacy<3.6.0,>=3.5.0->pt-core-news-md==3.5.0) (23.1)\n",
            "Requirement already satisfied: langcodes<4.0.0,>=3.2.0 in /usr/local/lib/python3.10/dist-packages (from spacy<3.6.0,>=3.5.0->pt-core-news-md==3.5.0) (3.3.0)\n",
            "Requirement already satisfied: typing-extensions>=4.2.0 in /usr/local/lib/python3.10/dist-packages (from pydantic!=1.8,!=1.8.1,<1.11.0,>=1.7.4->spacy<3.6.0,>=3.5.0->pt-core-news-md==3.5.0) (4.5.0)\n",
            "Requirement already satisfied: urllib3<1.27,>=1.21.1 in /usr/local/lib/python3.10/dist-packages (from requests<3.0.0,>=2.13.0->spacy<3.6.0,>=3.5.0->pt-core-news-md==3.5.0) (1.26.15)\n",
            "Requirement already satisfied: certifi>=2017.4.17 in /usr/local/lib/python3.10/dist-packages (from requests<3.0.0,>=2.13.0->spacy<3.6.0,>=3.5.0->pt-core-news-md==3.5.0) (2022.12.7)\n",
            "Requirement already satisfied: charset-normalizer~=2.0.0 in /usr/local/lib/python3.10/dist-packages (from requests<3.0.0,>=2.13.0->spacy<3.6.0,>=3.5.0->pt-core-news-md==3.5.0) (2.0.12)\n",
            "Requirement already satisfied: idna<4,>=2.5 in /usr/local/lib/python3.10/dist-packages (from requests<3.0.0,>=2.13.0->spacy<3.6.0,>=3.5.0->pt-core-news-md==3.5.0) (3.4)\n",
            "Requirement already satisfied: blis<0.8.0,>=0.7.8 in /usr/local/lib/python3.10/dist-packages (from thinc<8.2.0,>=8.1.8->spacy<3.6.0,>=3.5.0->pt-core-news-md==3.5.0) (0.7.9)\n",
            "Requirement already satisfied: confection<1.0.0,>=0.0.1 in /usr/local/lib/python3.10/dist-packages (from thinc<8.2.0,>=8.1.8->spacy<3.6.0,>=3.5.0->pt-core-news-md==3.5.0) (0.0.4)\n",
            "Requirement already satisfied: click<9.0.0,>=7.1.1 in /usr/local/lib/python3.10/dist-packages (from typer<0.8.0,>=0.3.0->spacy<3.6.0,>=3.5.0->pt-core-news-md==3.5.0) (8.1.3)\n",
            "Requirement already satisfied: MarkupSafe>=2.0 in /usr/local/lib/python3.10/dist-packages (from jinja2->spacy<3.6.0,>=3.5.0->pt-core-news-md==3.5.0) (2.1.2)\n",
            "\u001b[38;5;2m✔ Download and installation successful\u001b[0m\n",
            "You can now load the package via spacy.load('pt_core_news_md')\n"
          ]
        }
      ]
    },
    {
      "cell_type": "code",
      "source": [
        "#!pip3 install -U spacy"
      ],
      "metadata": {
        "colab": {
          "base_uri": "https://localhost:8080/"
        },
        "id": "zC4Ua0Y50a5E",
        "outputId": "940946a8-fd4a-476f-88ce-c59851b61b9a"
      },
      "execution_count": 2,
      "outputs": [
        {
          "output_type": "stream",
          "name": "stdout",
          "text": [
            "Looking in indexes: https://pypi.org/simple, https://us-python.pkg.dev/colab-wheels/public/simple/\n",
            "Requirement already satisfied: spacy in /usr/local/lib/python3.10/dist-packages (3.5.3)\n",
            "Requirement already satisfied: spacy-legacy<3.1.0,>=3.0.11 in /usr/local/lib/python3.10/dist-packages (from spacy) (3.0.12)\n",
            "Requirement already satisfied: spacy-loggers<2.0.0,>=1.0.0 in /usr/local/lib/python3.10/dist-packages (from spacy) (1.0.4)\n",
            "Requirement already satisfied: murmurhash<1.1.0,>=0.28.0 in /usr/local/lib/python3.10/dist-packages (from spacy) (1.0.9)\n",
            "Requirement already satisfied: cymem<2.1.0,>=2.0.2 in /usr/local/lib/python3.10/dist-packages (from spacy) (2.0.7)\n",
            "Requirement already satisfied: preshed<3.1.0,>=3.0.2 in /usr/local/lib/python3.10/dist-packages (from spacy) (3.0.8)\n",
            "Requirement already satisfied: thinc<8.2.0,>=8.1.8 in /usr/local/lib/python3.10/dist-packages (from spacy) (8.1.9)\n",
            "Requirement already satisfied: wasabi<1.2.0,>=0.9.1 in /usr/local/lib/python3.10/dist-packages (from spacy) (1.1.1)\n",
            "Requirement already satisfied: srsly<3.0.0,>=2.4.3 in /usr/local/lib/python3.10/dist-packages (from spacy) (2.4.6)\n",
            "Requirement already satisfied: catalogue<2.1.0,>=2.0.6 in /usr/local/lib/python3.10/dist-packages (from spacy) (2.0.8)\n",
            "Requirement already satisfied: typer<0.8.0,>=0.3.0 in /usr/local/lib/python3.10/dist-packages (from spacy) (0.7.0)\n",
            "Requirement already satisfied: pathy>=0.10.0 in /usr/local/lib/python3.10/dist-packages (from spacy) (0.10.1)\n",
            "Requirement already satisfied: smart-open<7.0.0,>=5.2.1 in /usr/local/lib/python3.10/dist-packages (from spacy) (6.3.0)\n",
            "Requirement already satisfied: tqdm<5.0.0,>=4.38.0 in /usr/local/lib/python3.10/dist-packages (from spacy) (4.65.0)\n",
            "Requirement already satisfied: numpy>=1.15.0 in /usr/local/lib/python3.10/dist-packages (from spacy) (1.22.4)\n",
            "Requirement already satisfied: requests<3.0.0,>=2.13.0 in /usr/local/lib/python3.10/dist-packages (from spacy) (2.27.1)\n",
            "Requirement already satisfied: pydantic!=1.8,!=1.8.1,<1.11.0,>=1.7.4 in /usr/local/lib/python3.10/dist-packages (from spacy) (1.10.7)\n",
            "Requirement already satisfied: jinja2 in /usr/local/lib/python3.10/dist-packages (from spacy) (3.1.2)\n",
            "Requirement already satisfied: setuptools in /usr/local/lib/python3.10/dist-packages (from spacy) (67.7.2)\n",
            "Requirement already satisfied: packaging>=20.0 in /usr/local/lib/python3.10/dist-packages (from spacy) (23.1)\n",
            "Requirement already satisfied: langcodes<4.0.0,>=3.2.0 in /usr/local/lib/python3.10/dist-packages (from spacy) (3.3.0)\n",
            "Requirement already satisfied: typing-extensions>=4.2.0 in /usr/local/lib/python3.10/dist-packages (from pydantic!=1.8,!=1.8.1,<1.11.0,>=1.7.4->spacy) (4.5.0)\n",
            "Requirement already satisfied: urllib3<1.27,>=1.21.1 in /usr/local/lib/python3.10/dist-packages (from requests<3.0.0,>=2.13.0->spacy) (1.26.15)\n",
            "Requirement already satisfied: certifi>=2017.4.17 in /usr/local/lib/python3.10/dist-packages (from requests<3.0.0,>=2.13.0->spacy) (2022.12.7)\n",
            "Requirement already satisfied: charset-normalizer~=2.0.0 in /usr/local/lib/python3.10/dist-packages (from requests<3.0.0,>=2.13.0->spacy) (2.0.12)\n",
            "Requirement already satisfied: idna<4,>=2.5 in /usr/local/lib/python3.10/dist-packages (from requests<3.0.0,>=2.13.0->spacy) (3.4)\n",
            "Requirement already satisfied: blis<0.8.0,>=0.7.8 in /usr/local/lib/python3.10/dist-packages (from thinc<8.2.0,>=8.1.8->spacy) (0.7.9)\n",
            "Requirement already satisfied: confection<1.0.0,>=0.0.1 in /usr/local/lib/python3.10/dist-packages (from thinc<8.2.0,>=8.1.8->spacy) (0.0.4)\n",
            "Requirement already satisfied: click<9.0.0,>=7.1.1 in /usr/local/lib/python3.10/dist-packages (from typer<0.8.0,>=0.3.0->spacy) (8.1.3)\n",
            "Requirement already satisfied: MarkupSafe>=2.0 in /usr/local/lib/python3.10/dist-packages (from jinja2->spacy) (2.1.2)\n"
          ]
        }
      ]
    },
    {
      "cell_type": "code",
      "execution_count": 29,
      "metadata": {
        "colab": {
          "base_uri": "https://localhost:8080/"
        },
        "id": "1sV5C0Esl-E6",
        "outputId": "346d2c40-6050-4635-a6f7-0b6115f8ca8e"
      },
      "outputs": [
        {
          "output_type": "stream",
          "name": "stdout",
          "text": [
            "Number of bedrooms: []\n",
            "Number of bathrooms: []\n"
          ]
        }
      ],
      "source": [
        "import spacy\n",
        "#from spacy.lang.pt.examples import sentences \n",
        "import re\n",
        "#import pt_core_news_md\n",
        "\n",
        "# Load English language model\n",
        "#nlp = pt_core_news_md.load()\n",
        "nlp0 = spacy.load(\"en_core_web_sm\")\n",
        "nlp = spacy.load('pt_core_news_md') \n",
        "\n",
        "# Preprocess the text\n",
        "text = \"\"\"Solar histórico conhecido por “Quinta ou Casa do Carrapatelo”. Datada de 1706, é constituída por uma bonita casa senhorial com brasão, capela, adega, celeiro, casa de animais, espigueiro, 7 minas de água, num total de cerca de 2,5 hectares.\n",
        "\n",
        "Trata-se de um imóvel com raízes históricas, sendo aludida em diversos livros da especialidade, assim como em diversos sites acerca da região.\n",
        "\n",
        "A propriedade,na sua totalidade, é composta pelos seguintes artigos:\n",
        "\n",
        "Terrenos de cultura, ramada, oliveiras, fruteiras e dependências agrícolas, com a área de 15.300 m2;\n",
        "Prédio urbanos, compostos de casa de habitação com capela e quintais, tendo anexo uma casa de caseiro, com a área coberta de 544 m2 e total do terreno de 5.212m2;\n",
        "Prédio urbano, composto de casa de habitação de caseiros, com 2 pisos, com a área de 63,80 m2 por piso totalizando 127,60 m2;\n",
        "a área total de cosntrução será de apropximadamente 1,200m2\n",
        "Nota: medidas conforme registos. Levatamento topográfico disponivel. Detalhes\n",
        "Área Bruta Privativa m\n",
        "2\n",
        "1 151\t\n",
        "Área Bruta m\n",
        "2\n",
        "1 151\n",
        "Área Total do Lote m\n",
        "2\n",
        "20 512\t\n",
        "Área Útil m\n",
        "2\n",
        "1 151\n",
        "Quartos\n",
        "14\t\n",
        "Ano de construção\n",
        "Piso\n",
        "--\t\n",
        "WCs\n",
        "0\n",
        "Elevador\n",
        "Não\t\n",
        "Estacionamento\n",
        "3 Lug.\n",
        "Detalhes Energéticos\"\"\" \n",
        "text = text.lower()\n",
        "\n",
        "# Tokenize the text\n",
        "doc0 = nlp0(text)\n",
        "doc = nlp(text)\n",
        "\n",
        "\n",
        "# Named Entity Recognition\n",
        "\n",
        "entities0 = [(ent.text, ent.label_) for ent in doc0.ents]\n",
        "entities = [(ent.text, ent.label_) for ent in doc.ents]\n",
        "\n",
        "# Pattern matching\n",
        "\n",
        "bedroom_pattern = r\"Quartos (\\d+)\"\n",
        "#bedroom_pattern = r\"(\\d+) bedroom\"\n",
        "\n",
        "#bathroom_pattern = r\"(\\d+) bathroom|wc\"\n",
        "bathroom_pattern = r\"WCs (\\d+)\"\n",
        "\n",
        "# Extract bedroom information\n",
        "bedroom_info = re.findall(bedroom_pattern, text)\n",
        "\n",
        "# Extract bathroom information\n",
        "bathroom_info = re.findall(bathroom_pattern, text)\n",
        "\n",
        "# Print the extracted information\n",
        "print(\"Number of bedrooms:\", bedroom_info)\n",
        "print(\"Number of bathrooms:\", bathroom_info)\n"
      ]
    },
    {
      "cell_type": "code",
      "source": [
        "nlp0"
      ],
      "metadata": {
        "colab": {
          "base_uri": "https://localhost:8080/"
        },
        "id": "nAHHCN-oOZb4",
        "outputId": "0200536a-79d8-4b95-a37c-28cde568ce48"
      },
      "execution_count": 20,
      "outputs": [
        {
          "output_type": "execute_result",
          "data": {
            "text/plain": [
              "<spacy.lang.en.English at 0x7f00b6d0c250>"
            ]
          },
          "metadata": {},
          "execution_count": 20
        }
      ]
    },
    {
      "cell_type": "code",
      "source": [
        "nlp"
      ],
      "metadata": {
        "colab": {
          "base_uri": "https://localhost:8080/"
        },
        "id": "WCVn044HOc8Z",
        "outputId": "80faa249-0311-41f7-a3a0-deff0421d7f0"
      },
      "execution_count": 21,
      "outputs": [
        {
          "output_type": "execute_result",
          "data": {
            "text/plain": [
              "<spacy.lang.pt.Portuguese at 0x7f00b49b5f00>"
            ]
          },
          "metadata": {},
          "execution_count": 21
        }
      ]
    },
    {
      "cell_type": "code",
      "source": [
        "#doc0\n",
        "#doc\n",
        "entities0"
      ],
      "metadata": {
        "colab": {
          "base_uri": "https://localhost:8080/"
        },
        "id": "YBUv5lumOiTK",
        "outputId": "0a63a4f7-cd58-4991-ebc8-17d2a530c2a9"
      },
      "execution_count": 25,
      "outputs": [
        {
          "output_type": "execute_result",
          "data": {
            "text/plain": [
              "[('quinta ou', 'WORK_OF_ART'),\n",
              " ('casa', 'ORG'),\n",
              " ('datada de 1706', 'PERSON'),\n",
              " ('casa', 'ORG'),\n",
              " ('capela', 'GPE'),\n",
              " ('adega', 'PERSON'),\n",
              " ('celeiro', 'ORG'),\n",
              " ('casa de animais', 'ORG'),\n",
              " ('espigueiro', 'GPE'),\n",
              " ('7', 'CARDINAL'),\n",
              " ('2,5 hectares', 'QUANTITY'),\n",
              " ('como', 'ORG'),\n",
              " ('de cultura', 'ORG'),\n",
              " ('ramada', 'ORG'),\n",
              " ('oliveiras', 'PERSON'),\n",
              " ('15.300 m2', 'QUANTITY'),\n",
              " ('capela e quintais', 'PERSON'),\n",
              " ('casa de caseiro', 'ORG'),\n",
              " ('544', 'CARDINAL'),\n",
              " ('m2', 'PERSON'),\n",
              " ('composto de casa de habitação de caseiros', 'ORG'),\n",
              " ('2', 'CARDINAL'),\n",
              " ('m2', 'PERSON'),\n",
              " ('127,60', 'CARDINAL'),\n",
              " ('m2', 'PERSON'),\n",
              " ('1,200m2', 'CARDINAL'),\n",
              " ('medidas conforme', 'PERSON'),\n",
              " ('detalhes\\nárea bruta privativa m\\n', 'PERSON'),\n",
              " ('2', 'CARDINAL'),\n",
              " ('1 151', 'CARDINAL'),\n",
              " ('2', 'CARDINAL'),\n",
              " ('1 151', 'CARDINAL'),\n",
              " ('2', 'CARDINAL'),\n",
              " ('20 512', 'CARDINAL'),\n",
              " ('área útil', 'GPE'),\n",
              " ('2', 'CARDINAL'),\n",
              " ('1 151', 'CARDINAL'),\n",
              " ('14', 'CARDINAL'),\n",
              " ('ano de construção\\npiso', 'ORG'),\n",
              " ('0', 'CARDINAL'),\n",
              " ('3', 'CARDINAL')]"
            ]
          },
          "metadata": {},
          "execution_count": 25
        }
      ]
    },
    {
      "cell_type": "code",
      "source": [
        "entities"
      ],
      "metadata": {
        "id": "ZnRmTKX7Opas",
        "outputId": "0dab40c1-c333-42cf-c65d-49e32e39d280",
        "colab": {
          "base_uri": "https://localhost:8080/"
        }
      },
      "execution_count": 26,
      "outputs": [
        {
          "output_type": "execute_result",
          "data": {
            "text/plain": [
              "[]"
            ]
          },
          "metadata": {},
          "execution_count": 26
        }
      ]
    },
    {
      "cell_type": "code",
      "source": [
        "nlp\n"
      ],
      "metadata": {
        "colab": {
          "base_uri": "https://localhost:8080/"
        },
        "id": "7B_-LwG01ZSI",
        "outputId": "4a90c6d5-e629-4d90-d026-7726db18283e"
      },
      "execution_count": 8,
      "outputs": [
        {
          "output_type": "execute_result",
          "data": {
            "text/plain": [
              "<spacy.lang.pt.Portuguese at 0x7f00b79d3d90>"
            ]
          },
          "metadata": {},
          "execution_count": 8
        }
      ]
    },
    {
      "cell_type": "code",
      "source": [
        "nlp"
      ],
      "metadata": {
        "colab": {
          "base_uri": "https://localhost:8080/"
        },
        "id": "dizXv4JK1dRA",
        "outputId": "b36dd4a4-d826-41f0-d817-06a3fce00332"
      },
      "execution_count": 10,
      "outputs": [
        {
          "output_type": "execute_result",
          "data": {
            "text/plain": [
              "<spacy.lang.pt.Portuguese at 0x7f00b5790df0>"
            ]
          },
          "metadata": {},
          "execution_count": 10
        }
      ]
    },
    {
      "cell_type": "code",
      "source": [
        "text"
      ],
      "metadata": {
        "colab": {
          "base_uri": "https://localhost:8080/",
          "height": 125
        },
        "id": "bJmZzj21nZvl",
        "outputId": "494dd425-ae4b-4961-94d3-f39083ab86b3"
      },
      "execution_count": 4,
      "outputs": [
        {
          "output_type": "execute_result",
          "data": {
            "text/plain": [
              "'solar histórico conhecido por “quinta ou casa do carrapatelo”. datada de 1706, é constituída por uma bonita casa senhorial com brasão, capela, adega, celeiro, casa de animais, espigueiro, 7 minas de água, num total de cerca de 2,5 hectares.\\n\\ntrata-se de um imóvel com raízes históricas, sendo aludida em diversos livros da especialidade, assim como em diversos sites acerca da região.\\n\\na propriedade,na sua totalidade, é composta pelos seguintes artigos:\\n\\nterrenos de cultura, ramada, oliveiras, fruteiras e dependências agrícolas, com a área de 15.300 m2;\\nprédio urbanos, compostos de casa de habitação com capela e quintais, tendo anexo uma casa de caseiro, com a área coberta de 544 m2 e total do terreno de 5.212m2;\\nprédio urbano, composto de casa de habitação de caseiros, com 2 pisos, com a área de 63,80 m2 por piso totalizando 127,60 m2;\\na área total de cosntrução será de apropximadamente 1,200m2\\nnota: medidas conforme registos. levatamento topográfico disponivel. detalhes\\nárea bruta privativa m\\n2\\n1 151\\t\\nárea bruta m\\n2\\n1 151\\nárea total do lote m\\n2\\n20 512\\t\\nárea útil m\\n2\\n1 151\\nquartos\\n14\\t\\nano de construção\\npiso\\n--\\t\\nwcs\\n0\\nelevador\\nnão\\t\\nestacionamento\\n3 lug.\\ndetalhes energéticos'"
            ],
            "application/vnd.google.colaboratory.intrinsic+json": {
              "type": "string"
            }
          },
          "metadata": {},
          "execution_count": 4
        }
      ]
    },
    {
      "cell_type": "code",
      "source": [
        "text"
      ],
      "metadata": {
        "colab": {
          "base_uri": "https://localhost:8080/",
          "height": 125
        },
        "id": "CJY6rMFI1nXJ",
        "outputId": "df616526-0545-4ef8-eb5e-589b454da0fa"
      },
      "execution_count": 12,
      "outputs": [
        {
          "output_type": "execute_result",
          "data": {
            "text/plain": [
              "'solar histórico conhecido por “quinta ou casa do carrapatelo”. datada de 1706, é constituída por uma bonita casa senhorial com brasão, capela, adega, celeiro, casa de animais, espigueiro, 7 minas de água, num total de cerca de 2,5 hectares.\\n\\ntrata-se de um imóvel com raízes históricas, sendo aludida em diversos livros da especialidade, assim como em diversos sites acerca da região.\\n\\na propriedade,na sua totalidade, é composta pelos seguintes artigos:\\n\\nterrenos de cultura, ramada, oliveiras, fruteiras e dependências agrícolas, com a área de 15.300 m2;\\nprédio urbanos, compostos de casa de habitação com capela e quintais, tendo anexo uma casa de caseiro, com a área coberta de 544 m2 e total do terreno de 5.212m2;\\nprédio urbano, composto de casa de habitação de caseiros, com 2 pisos, com a área de 63,80 m2 por piso totalizando 127,60 m2;\\na área total de cosntrução será de apropximadamente 1,200m2\\nnota: medidas conforme registos. levatamento topográfico disponivel. detalhes\\nárea bruta privativa m\\n2\\n1 151\\t\\nárea bruta m\\n2\\n1 151\\nárea total do lote m\\n2\\n20 512\\t\\nárea útil m\\n2\\n1 151\\nquartos\\n14\\t\\nano de construção\\npiso\\n--\\t\\nwcs\\n0\\nelevador\\nnão\\t\\nestacionamento\\n3 lug.\\ndetalhes energéticos'"
            ],
            "application/vnd.google.colaboratory.intrinsic+json": {
              "type": "string"
            }
          },
          "metadata": {},
          "execution_count": 12
        }
      ]
    },
    {
      "cell_type": "code",
      "source": [
        "doc"
      ],
      "metadata": {
        "colab": {
          "base_uri": "https://localhost:8080/"
        },
        "id": "U6t5onKbneRM",
        "outputId": "b965b153-b81d-49f4-90e3-0f6f000a9f3e"
      },
      "execution_count": 5,
      "outputs": [
        {
          "output_type": "execute_result",
          "data": {
            "text/plain": [
              "solar histórico conhecido por “quinta ou casa do carrapatelo”. datada de 1706, é constituída por uma bonita casa senhorial com brasão, capela, adega, celeiro, casa de animais, espigueiro, 7 minas de água, num total de cerca de 2,5 hectares.\n",
              "\n",
              "trata-se de um imóvel com raízes históricas, sendo aludida em diversos livros da especialidade, assim como em diversos sites acerca da região.\n",
              "\n",
              "a propriedade,na sua totalidade, é composta pelos seguintes artigos:\n",
              "\n",
              "terrenos de cultura, ramada, oliveiras, fruteiras e dependências agrícolas, com a área de 15.300 m2;\n",
              "prédio urbanos, compostos de casa de habitação com capela e quintais, tendo anexo uma casa de caseiro, com a área coberta de 544 m2 e total do terreno de 5.212m2;\n",
              "prédio urbano, composto de casa de habitação de caseiros, com 2 pisos, com a área de 63,80 m2 por piso totalizando 127,60 m2;\n",
              "a área total de cosntrução será de apropximadamente 1,200m2\n",
              "nota: medidas conforme registos. levatamento topográfico disponivel. detalhes\n",
              "área bruta privativa m\n",
              "2\n",
              "1 151\t\n",
              "área bruta m\n",
              "2\n",
              "1 151\n",
              "área total do lote m\n",
              "2\n",
              "20 512\t\n",
              "área útil m\n",
              "2\n",
              "1 151\n",
              "quartos\n",
              "14\t\n",
              "ano de construção\n",
              "piso\n",
              "--\t\n",
              "wcs\n",
              "0\n",
              "elevador\n",
              "não\t\n",
              "estacionamento\n",
              "3 lug.\n",
              "detalhes energéticos"
            ]
          },
          "metadata": {},
          "execution_count": 5
        }
      ]
    },
    {
      "cell_type": "code",
      "source": [
        "doc"
      ],
      "metadata": {
        "colab": {
          "base_uri": "https://localhost:8080/"
        },
        "id": "w0upNCUK1pwK",
        "outputId": "0785bc56-cf8d-4de6-ffbf-54a931bc9305"
      },
      "execution_count": 13,
      "outputs": [
        {
          "output_type": "execute_result",
          "data": {
            "text/plain": [
              "solar histórico conhecido por “quinta ou casa do carrapatelo”. datada de 1706, é constituída por uma bonita casa senhorial com brasão, capela, adega, celeiro, casa de animais, espigueiro, 7 minas de água, num total de cerca de 2,5 hectares.\n",
              "\n",
              "trata-se de um imóvel com raízes históricas, sendo aludida em diversos livros da especialidade, assim como em diversos sites acerca da região.\n",
              "\n",
              "a propriedade,na sua totalidade, é composta pelos seguintes artigos:\n",
              "\n",
              "terrenos de cultura, ramada, oliveiras, fruteiras e dependências agrícolas, com a área de 15.300 m2;\n",
              "prédio urbanos, compostos de casa de habitação com capela e quintais, tendo anexo uma casa de caseiro, com a área coberta de 544 m2 e total do terreno de 5.212m2;\n",
              "prédio urbano, composto de casa de habitação de caseiros, com 2 pisos, com a área de 63,80 m2 por piso totalizando 127,60 m2;\n",
              "a área total de cosntrução será de apropximadamente 1,200m2\n",
              "nota: medidas conforme registos. levatamento topográfico disponivel. detalhes\n",
              "área bruta privativa m\n",
              "2\n",
              "1 151\t\n",
              "área bruta m\n",
              "2\n",
              "1 151\n",
              "área total do lote m\n",
              "2\n",
              "20 512\t\n",
              "área útil m\n",
              "2\n",
              "1 151\n",
              "quartos\n",
              "14\t\n",
              "ano de construção\n",
              "piso\n",
              "--\t\n",
              "wcs\n",
              "0\n",
              "elevador\n",
              "não\t\n",
              "estacionamento\n",
              "3 lug.\n",
              "detalhes energéticos"
            ]
          },
          "metadata": {},
          "execution_count": 13
        }
      ]
    },
    {
      "cell_type": "code",
      "source": [
        "entities"
      ],
      "metadata": {
        "colab": {
          "base_uri": "https://localhost:8080/"
        },
        "id": "vvBJRREvnkNG",
        "outputId": "9ed706f2-14d5-4a6b-bd29-83e60912da1b"
      },
      "execution_count": 6,
      "outputs": [
        {
          "output_type": "execute_result",
          "data": {
            "text/plain": [
              "[('quinta ou', 'WORK_OF_ART'),\n",
              " ('casa', 'ORG'),\n",
              " ('datada de 1706', 'PERSON'),\n",
              " ('casa', 'ORG'),\n",
              " ('capela', 'GPE'),\n",
              " ('adega', 'PERSON'),\n",
              " ('celeiro', 'ORG'),\n",
              " ('casa de animais', 'ORG'),\n",
              " ('espigueiro', 'GPE'),\n",
              " ('7', 'CARDINAL'),\n",
              " ('2,5 hectares', 'QUANTITY'),\n",
              " ('como', 'ORG'),\n",
              " ('de cultura', 'ORG'),\n",
              " ('ramada', 'ORG'),\n",
              " ('oliveiras', 'PERSON'),\n",
              " ('15.300 m2', 'QUANTITY'),\n",
              " ('capela e quintais', 'PERSON'),\n",
              " ('casa de caseiro', 'ORG'),\n",
              " ('544', 'CARDINAL'),\n",
              " ('m2', 'PERSON'),\n",
              " ('composto de casa de habitação de caseiros', 'ORG'),\n",
              " ('2', 'CARDINAL'),\n",
              " ('m2', 'PERSON'),\n",
              " ('127,60', 'CARDINAL'),\n",
              " ('m2', 'PERSON'),\n",
              " ('1,200m2', 'CARDINAL'),\n",
              " ('medidas conforme', 'PERSON'),\n",
              " ('detalhes\\nárea bruta privativa m\\n', 'PERSON'),\n",
              " ('2', 'CARDINAL'),\n",
              " ('1 151', 'CARDINAL'),\n",
              " ('2', 'CARDINAL'),\n",
              " ('1 151', 'CARDINAL'),\n",
              " ('2', 'CARDINAL'),\n",
              " ('20 512', 'CARDINAL'),\n",
              " ('área útil', 'GPE'),\n",
              " ('2', 'CARDINAL'),\n",
              " ('1 151', 'CARDINAL'),\n",
              " ('14', 'CARDINAL'),\n",
              " ('ano de construção\\npiso', 'ORG'),\n",
              " ('0', 'CARDINAL'),\n",
              " ('3', 'CARDINAL')]"
            ]
          },
          "metadata": {},
          "execution_count": 6
        }
      ]
    },
    {
      "cell_type": "code",
      "source": [
        "entities"
      ],
      "metadata": {
        "colab": {
          "base_uri": "https://localhost:8080/"
        },
        "id": "Yi6g-lmw1ryS",
        "outputId": "053f2fda-f520-4c0a-fa9b-672b218ffb13"
      },
      "execution_count": 14,
      "outputs": [
        {
          "output_type": "execute_result",
          "data": {
            "text/plain": [
              "[]"
            ]
          },
          "metadata": {},
          "execution_count": 14
        }
      ]
    }
  ]
}